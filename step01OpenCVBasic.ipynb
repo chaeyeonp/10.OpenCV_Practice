{
 "cells": [
  {
   "cell_type": "code",
   "execution_count": 2,
   "metadata": {},
   "outputs": [],
   "source": [
    "import cv2\n",
    "import matplotlib.pyplot as plt"
   ]
  },
  {
   "cell_type": "code",
   "execution_count": 3,
   "metadata": {},
   "outputs": [
    {
     "name": "stdout",
     "output_type": "stream",
     "text": [
      "4.4.0\n"
     ]
    }
   ],
   "source": [
    "print(cv2.__version__)"
   ]
  },
  {
   "cell_type": "markdown",
   "metadata": {},
   "source": [
    "1. cat.jpg 파일을 화면에 출력"
   ]
  },
  {
   "cell_type": "code",
   "execution_count": 4,
   "metadata": {},
   "outputs": [],
   "source": [
    "#이미지 즉 영상 파일 불러오기\n",
    "img = cv2.imread('imglist/cat.bmp')\n",
    "\n",
    "if img is None:\n",
    "    print('영상 미존재')\n",
    "    \n",
    "    sys.exit() #시스템 강제 종료\n",
    "    \n",
    "#영상 출력 함수\n",
    "\n",
    "cv2.imshow('cat image', img)\n",
    "\n",
    "#키보드 입력 대기 함수\n",
    "#기본값 0, 밀리초 단위의 대기 시간, 0보다 작을 경우 무한 대기\n",
    "\n",
    "cv2.waitKey(5)\n",
    "\n",
    "#생성된 모든 윈도우창 닫기\n",
    "cv2.destroyAllWindows()"
   ]
  },
  {
   "cell_type": "code",
   "execution_count": 5,
   "metadata": {},
   "outputs": [
    {
     "name": "stdout",
     "output_type": "stream",
     "text": [
      "-1\n"
     ]
    }
   ],
   "source": [
    "#이미지 즉 영상 파일 불러오기\n",
    "img = cv2.imread('imglist/cat.bmp', cv2.IMREAD_GRAYSCALE)\n",
    "\n",
    "if img is None:\n",
    "    print('영상 미존재')\n",
    "    \n",
    "    sys.exit() #시스템 강제 종료\n",
    "    \n",
    "#이미지 사이즈 수동 조절\n",
    "img = cv2.resize(img,(300,300))\n",
    "    \n",
    "    \n",
    "#영상 출력 함수\n",
    "\n",
    "cv2.imshow('windowName',img)\n",
    "\n",
    "#키보드 입력 대기 함수\n",
    "#기본값 0, 밀리초 단위의 대기 시간, 0보다 작을 경우 무한 대기\n",
    "#ESC는 27, spacebar는 32, enter는 13\n",
    "#enter를 클릭하면 이미지 창이 닫히겠금 로직 추가해 보기\n",
    "\n",
    "key = cv2.waitKey()\n",
    "print(key)\n",
    "\n",
    "#생성된 모든 윈도우창 닫기\n",
    "cv2.destroyAllWindows()"
   ]
  },
  {
   "cell_type": "code",
   "execution_count": null,
   "metadata": {},
   "outputs": [],
   "source": []
  }
 ],
 "metadata": {
  "kernelspec": {
   "display_name": "Python 3",
   "language": "python",
   "name": "python3"
  },
  "language_info": {
   "codemirror_mode": {
    "name": "ipython",
    "version": 3
   },
   "file_extension": ".py",
   "mimetype": "text/x-python",
   "name": "python",
   "nbconvert_exporter": "python",
   "pygments_lexer": "ipython3",
   "version": "3.7.6"
  }
 },
 "nbformat": 4,
 "nbformat_minor": 4
}
